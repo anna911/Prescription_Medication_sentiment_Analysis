{
 "cells": [
  {
   "cell_type": "code",
   "execution_count": 1,
   "metadata": {},
   "outputs": [],
   "source": [
    "import pandas as pd\n",
    "import numpy as np\n",
    "import matplotlib.pyplot as plt\n",
    "import seaborn as sns\n",
    "import math\n",
    "import datetime\n",
    "import sklearn.datasets as datasets\n",
    "from scipy.stats import chisquare\n",
    "%matplotlib inline\n",
    "\n",
    "import os\n",
    "import numpy as np\n",
    "import pandas as pd\n",
    "import numpy.random as rand\n",
    "from itertools import islice\n",
    "#Models\n",
    "import sklearn.model_selection as cv\n",
    "from sklearn.ensemble.partial_dependence import partial_dependence, plot_partial_dependence\n",
    "import matplotlib.pyplot as plt\n",
    "from mpl_toolkits.mplot3d import Axes3D\n",
    "from sklearn.model_selection import cross_val_score, train_test_split, GridSearchCV\n",
    "from sklearn.linear_model import LogisticRegression\n",
    "from sklearn.neighbors import KNeighborsClassifier\n",
    "from sklearn.ensemble import (GradientBoostingRegressor, \n",
    "                              GradientBoostingClassifier, \n",
    "                              AdaBoostClassifier,\n",
    "                              RandomForestClassifier,\n",
    "                             RandomForestRegressor)\n",
    "from sklearn.tree import DecisionTreeRegressor, DecisionTreeClassifier\n",
    "from sklearn.svm import SVC\n",
    "from sklearn.metrics import classification_report, confusion_matrix\n",
    "from sklearn.metrics import classification_report\n",
    "from sklearn.metrics import log_loss, make_scorer, confusion_matrix\n",
    "from sklearn.metrics import f1_score\n",
    "\n",
    "from pylab import rcParams\n",
    "rcParams['figure.figsize'] = (12, 8)\n",
    "#NLP\n",
    "from nltk.corpus import stopwords\n",
    "from nltk.tokenize import word_tokenize\n",
    "from nltk.stem.porter import PorterStemmer\n",
    "from nltk.stem.snowball import SnowballStemmer\n"
   ]
  },
  {
   "cell_type": "markdown",
   "metadata": {},
   "source": [
    "## Load Training Data "
   ]
  },
  {
   "cell_type": "code",
   "execution_count": 3,
   "metadata": {},
   "outputs": [],
   "source": [
    "\n",
    "df_train = pd.read_csv('drugsCom_raw/drugsComTrain_raw.tsv',sep='\\t',index_col=0)\n",
    "df_test = pd.read_csv('drugsCom_raw/drugsComTest_raw.tsv',sep='\\t',index_col=0)"
   ]
  },
  {
   "cell_type": "code",
   "execution_count": 4,
   "metadata": {},
   "outputs": [
    {
     "data": {
      "text/plain": [
       "(161297, 6)"
      ]
     },
     "execution_count": 4,
     "metadata": {},
     "output_type": "execute_result"
    }
   ],
   "source": []
  },
  {
   "cell_type": "code",
   "execution_count": 5,
   "metadata": {},
   "outputs": [],
   "source": [
    "df_test = pd.read_csv('drugsCom_raw/drugsComTest_raw.tsv',sep='\\t',index_col=0)\n"
   ]
  },
  {
   "cell_type": "code",
   "execution_count": 6,
   "metadata": {},
   "outputs": [
    {
     "data": {
      "text/plain": [
       "(53766, 6)"
      ]
     },
     "execution_count": 6,
     "metadata": {},
     "output_type": "execute_result"
    }
   ],
   "source": [
    "df_test.shape"
   ]
  },
  {
   "cell_type": "code",
   "execution_count": 7,
   "metadata": {},
   "outputs": [],
   "source": [
    "def create_rating_label(df):\n",
    "    if df['rating'] >= 7: \n",
    "        return 'high'\n",
    "    elif (df['rating'] < 4):\n",
    "        return 'low'\n",
    "    else :\n",
    "        return 'neutral'"
   ]
  },
  {
   "cell_type": "code",
   "execution_count": 8,
   "metadata": {},
   "outputs": [
    {
     "data": {
      "text/plain": [
       "(53766, 6)"
      ]
     },
     "execution_count": 8,
     "metadata": {},
     "output_type": "execute_result"
    }
   ],
   "source": [
    "df_test.shape"
   ]
  },
  {
   "cell_type": "code",
   "execution_count": 10,
   "metadata": {},
   "outputs": [],
   "source": [
    "df_train['label']=df_train.apply(create_rating_label, axis=1)"
   ]
  },
  {
   "cell_type": "code",
   "execution_count": 11,
   "metadata": {},
   "outputs": [],
   "source": [
    "df_test['label']=df_test.apply(create_rating_label, axis=1)"
   ]
  },
  {
   "cell_type": "code",
   "execution_count": 12,
   "metadata": {},
   "outputs": [
    {
     "data": {
      "text/plain": [
       "high       0.662542\n",
       "low        0.217382\n",
       "neutral    0.120077\n",
       "Name: label, dtype: float64"
      ]
     },
     "execution_count": 12,
     "metadata": {},
     "output_type": "execute_result"
    }
   ],
   "source": [
    "df_train['label'].value_counts()/len(df_train['label'])"
   ]
  },
  {
   "cell_type": "markdown",
   "metadata": {},
   "source": [
    "# 2. NLP"
   ]
  },
  {
   "cell_type": "markdown",
   "metadata": {},
   "source": [
    "## 2.1 Sentiment Analysis\n",
    "### 2.1.1 Vectorizerization of words using tf-idf"
   ]
  },
  {
   "cell_type": "code",
   "execution_count": 14,
   "metadata": {
    "scrolled": false
   },
   "outputs": [
    {
     "data": {
      "text/plain": [
       "(161297, 7)"
      ]
     },
     "execution_count": 14,
     "metadata": {},
     "output_type": "execute_result"
    }
   ],
   "source": [
    "df_train.shape"
   ]
  },
  {
   "cell_type": "code",
   "execution_count": 15,
   "metadata": {},
   "outputs": [
    {
     "data": {
      "text/plain": [
       "(53766, 7)"
      ]
     },
     "execution_count": 15,
     "metadata": {},
     "output_type": "execute_result"
    }
   ],
   "source": [
    "df_test.shape"
   ]
  },
  {
   "cell_type": "markdown",
   "metadata": {},
   "source": [
    "## Step -1 \n",
    "### Preprocessing Data to remove non ascii\n",
    "### Preprocessing Data to remove punctuation \n",
    "### Preprocessing Data to replace numbers in strings \n",
    "### Preprocessing to remove Stopwords"
   ]
  },
  {
   "cell_type": "code",
   "execution_count": 16,
   "metadata": {},
   "outputs": [],
   "source": [
    "import unicodedata\n",
    "from nltk.corpus import stopwords\n",
    "from nltk.tokenize import word_tokenize\n",
    "import string\n",
    "from nltk.stem.porter import PorterStemmer\n",
    "from nltk.stem.snowball import SnowballStemmer\n",
    "\n",
    "punctuation_ = string.punctuation+'``'+\"''\"+'...'+''#039\n",
    "stopwords_ = set(stopwords.words('english'))\n",
    "stemmer_porter = PorterStemmer()\n",
    "\n",
    "\n",
    "def remove_nonascii(input_str):\n",
    "    nfkd_form = unicodedata.normalize('NFKD', input_str)\n",
    "    only_ascii = nfkd_form.encode('ASCII', 'ignore')\n",
    "    return only_ascii.decode()\n",
    "\n",
    "# filter stop words and punctuation\n",
    "\n",
    "def filter_stop_punct(tokenised_word):\n",
    "    w_list=[]\n",
    "    for w in tokenised_word: \n",
    "        if (w not in stopwords_) and (w not in punctuation_):\n",
    "            w_list.append(w.lower())\n",
    "    return w_list\n",
    "\n",
    "\n",
    "# Replace numbers in string \n",
    "\n",
    "def \n",
    "\n",
    "\n",
    "\n",
    "\n",
    "\n",
    "\n",
    "def nlp_pipeline(df):\n",
    "    review_lst=[]\n",
    "    filtered_text=[]\n",
    "    tokens_stemporter_lst=[]\n",
    "    for review in df['review'][:1]:\n",
    "        input_string = remove_accents(review)\n",
    "        tokenised_word=word_tokenize(input_string)\n",
    "        tokenised_word_fltr=filter_stop_punct(tokenised_word)\n",
    "        #print(tokenised_word_fltr)\n",
    "        tokens_stemporter = list(map(stemmer_porter.stem, tokenised_word_fltr))\n",
    "        tokens_stemporter_lst.append(tokens_stemporter)           \n",
    "    return tokens_stemporter_lst   #review_lst.append(stopwords1)"
   ]
  },
  {
   "cell_type": "code",
   "execution_count": 17,
   "metadata": {},
   "outputs": [],
   "source": [
    "def nlp_pipeline(df):\n",
    "    review_lst=[]\n",
    "    filtered_text=[]\n",
    "    tokens_stemporter_lst=[]\n",
    "    for review in df['review'][:10]:\n",
    "        input_string = remove_accents(review)\n",
    "        tokenised_word=word_tokenize(input_string)\n",
    "        tokenised_word_fltr=filter_stop_punct(tokenised_word)\n",
    "        \n",
    "    return tokenised_word_fltr   #review_lst.append(stopwords1)"
   ]
  },
  {
   "cell_type": "markdown",
   "metadata": {},
   "source": [
    "## Creating tfidf for review data "
   ]
  },
  {
   "cell_type": "markdown",
   "metadata": {},
   "source": [
    "### for Train data"
   ]
  },
  {
   "cell_type": "code",
   "execution_count": 91,
   "metadata": {},
   "outputs": [],
   "source": [
    "#Cleaning Up data \n",
    "\n",
    "#Step -1 \n",
    "### Preprocessing Data to remove non ascii\n",
    "### Preprocessing Data to remove punctuation \n",
    "## reprocessing Data to replace numbers in strings \n",
    "## Preprocessing to remove Stopwords\n",
    "\n",
    "#Stemming, Tokenisation and Lemmatisation\n",
    "\n",
    "\n",
    "\n",
    "\n",
    "stemmer = SnowballStemmer('english')\n",
    "import nltk \n",
    "import re\n",
    "\n",
    "def stem_tokens(tokens, stemmer):\n",
    "    stemmed = []\n",
    "    for item in tokens:\n",
    "        stemmed.append(stemmer.stem(item))\n",
    "    return stemmed\n",
    "\n",
    "def tokenize(text):\n",
    "    text = \"\".join([ch for ch in text if ch not in string.punctuation])\n",
    "    remove_special_char = re.compile('r[^a-z\\d]',re.IGNORECASE)\n",
    "\n",
    "   # Regex to replace all numerics\n",
    "    replace_numerics = re.compile(r'\\d+',re.IGNORECASE)\n",
    "\n",
    "    tokens = nltk.word_tokenize(text)\n",
    "    stems = stem_tokens(tokens, stemmer)\n",
    "    return stems"
   ]
  },
  {
   "cell_type": "code",
   "execution_count": 92,
   "metadata": {},
   "outputs": [
    {
     "name": "stderr",
     "output_type": "stream",
     "text": [
      "/Volumes/Disk2/anaconda3/lib/python3.7/site-packages/sklearn/feature_extraction/text.py:300: UserWarning: Your stop_words may be inconsistent with your preprocessing. Tokenizing the stop words generated tokens ['abov', 'afterward', 'alon', 'alreadi', 'alway', 'ani', 'anoth', 'anyon', 'anyth', 'anywher', 'becam', 'becaus', 'becom', 'befor', 'besid', 'cri', 'describ', 'dure', 'els', 'elsewher', 'empti', 'everi', 'everyon', 'everyth', 'everywher', 'fifti', 'forti', 'henc', 'hereaft', 'herebi', 'howev', 'hundr', 'inde', 'mani', 'meanwhil', 'moreov', 'nobodi', 'noon', 'noth', 'nowher', 'onc', 'onli', 'otherwis', 'ourselv', 'perhap', 'pleas', 'sever', 'sinc', 'sincer', 'sixti', 'someon', 'someth', 'sometim', 'somewher', 'themselv', 'thenc', 'thereaft', 'therebi', 'therefor', 'togeth', 'twelv', 'twenti', 'veri', 'whatev', 'whenc', 'whenev', 'wherea', 'whereaft', 'wherebi', 'wherev', 'whi', 'yourselv'] not in stop_words.\n",
      "  'stop_words.' % sorted(inconsistent))\n"
     ]
    }
   ],
   "source": [
    "from sklearn.feature_extraction.text import TfidfVectorizer\n",
    "tfidf = TfidfVectorizer(stop_words='english',tokenizer=tokenize,max_features= 20000)\n",
    "X_train = tfidf.fit_transform(df_train['review'])\n",
    "X_test = tfidf.transform(df_test['review'])"
   ]
  },
  {
   "cell_type": "markdown",
   "metadata": {},
   "source": [
    "### for Test data\n"
   ]
  },
  {
   "cell_type": "code",
   "execution_count": 22,
   "metadata": {},
   "outputs": [
    {
     "name": "stdout",
     "output_type": "stream",
     "text": [
      "(161297, 20000)\n",
      "(53766, 20000)\n"
     ]
    }
   ],
   "source": [
    "y_train = df_train['label']\n",
    "y_test = df_test['label']\n",
    "\n",
    "print(X_train.shape)\n",
    "print(X_test.shape)"
   ]
  },
  {
   "cell_type": "code",
   "execution_count": 75,
   "metadata": {},
   "outputs": [],
   "source": [
    "Y_train=df_train['label']\n",
    "Y_test=df_test['label']"
   ]
  },
  {
   "cell_type": "code",
   "execution_count": 88,
   "metadata": {},
   "outputs": [
    {
     "ename": "IndentationError",
     "evalue": "unexpected indent (<ipython-input-88-c79829c2aa1d>, line 7)",
     "output_type": "error",
     "traceback": [
      "\u001b[0;36m  File \u001b[0;32m\"<ipython-input-88-c79829c2aa1d>\"\u001b[0;36m, line \u001b[0;32m7\u001b[0m\n\u001b[0;31m    = re.compile(r'\\d+',re.IGNORECASE)\u001b[0m\n\u001b[0m    ^\u001b[0m\n\u001b[0;31mIndentationError\u001b[0m\u001b[0;31m:\u001b[0m unexpected indent\n"
     ]
    }
   ],
   "source": [
    "print('Readying the preprocessing functions')\n",
    "\n",
    "# Regex for removing non-alphanumeric characters and spaces\n",
    "remove_special_char = re.compile('r[^a-z\\d]',re.IGNORECASE)\n",
    "\n",
    "# Regex to replace all numerics\n",
    "replace_numerics = re.compile(r'\\d+',re.IGNORECASE)\n",
    "\n",
    "# Load NLTK stop words\n",
    "stop_words = nltk.corpus.stopwords.words('english')\n",
    "print (\"NLTK stopword list length: \",len(stop_words),'words')\n",
    "\n",
    "# Add custom drug stopwords\n",
    "#stop_words.extend(drug_stopwords)\n",
    "#print (\"Added custom stopwords\")\n",
    "#print (\"New stopword list length: \",len(stop_words),'words')\n",
    "\n",
    "\n",
    "\n",
    "#######################################################\n",
    "#NORMALIZER, RUNS IN PREPROCESS\n",
    "def remove_non_ascii(words):\n",
    "    \"\"\"Remove non-ASCII characters from list of tokenized words\"\"\"\n",
    "    new_words = []\n",
    "    for word in words:\n",
    "        new_word = unicodedata.normalize('NFKD', word).encode('ascii', 'ignore').decode('utf-8', 'ignore')\n",
    "        new_words.append(new_word)\n",
    "    return new_words\n",
    "\n",
    "def remove_punctuation(words):\n",
    "    \"\"\"Remove punctuation from list of tokenized words\"\"\"\n",
    "    new_words = []\n",
    "    for word in words:\n",
    "        new_word = re.sub(r'[^\\w\\s]', '', word)\n",
    "        if new_word != '':\n",
    "            new_words.append(new_word)\n",
    "    return new_words\n",
    "\n",
    "def replace_numbers(words):\n",
    "    \"\"\"Replace all interger occurrences in list of tokenized words with textual representation\"\"\"\n",
    "    p = inflect.engine()\n",
    "    new_words = []\n",
    "    for word in words:\n",
    "        if word.isdigit():\n",
    "            new_word = p.number_to_words(word)\n",
    "            new_words.append(new_word)\n",
    "        else:\n",
    "            new_words.append(word)\n",
    "    return new_words\n",
    "\n",
    "def remove_stopwords(words):\n",
    "    \"\"\"Remove stop words from list of tokenized words\"\"\"\n",
    "    new_words = []\n",
    "    for word in words:\n",
    "        if word not in stop_words:\n",
    "            new_words.append(word)\n",
    "    return new_words\n",
    "\n",
    "def normalize(words):\n",
    "    words = remove_non_ascii(words)\n",
    "    words = remove_punctuation(words)\n",
    "    words = replace_numbers(words)\n",
    "    words = remove_stopwords(words)\n",
    "    return words\n",
    "\n",
    "\n",
    "# Define Text-PreProcessing function\n",
    "#################################################################\n",
    "def preprocess_text(text, remove_stopwords = True, perform_stemming = True):\n",
    "    #first clean text then go to lowercase and split.\n",
    "    text = text.replace(r\"http\\S+\", \"\")\n",
    "    text = text.replace(r\"http\", \"\")\n",
    "    text = text.replace(r\"(\\d)\", \"\")\n",
    "    text = text.replace(r\"@\\S+\", \"\")\n",
    "    text = text.replace(r\"@\", \"at\")\n",
    "    text = remove_special_char.sub('', text)\n",
    "    text = replace_numerics.sub('n', text)\n",
    "    text = emoji_pattern.sub('', text)\n",
    "    text = text.replace( r\"(\\\\r)|(\\\\n)|(\\\\t)|(\\\\f)|(\\.)|(\\;)|(\\:)|(\\!)|(\\')|(\\?)|(\\,)|(\\\")|(\\()|(\\))|(\\[)|(\\])|(&#039;)|(\\d\\s)|(\\d)|(\\/)\",\"\")\n",
    "    text = text.replace( r\"(\\-)|(\\\\)|(\\s{2,})\",\" \")\n",
    "    text = text.replace(r\"[^A-Za-z0-9(),!?@\\'\\`\\\"\\_\\n]\", \" \")\n",
    "    text = text.replace(r\"(&#n;)\", \"\")\n",
    "    \n",
    "    # per/wordprocessing\n",
    "    textlist = text.lower().split()\n",
    "    textlist = normalize(textlist)\n",
    "    text = ' '.join(textlist) \n",
    "    #stopword removal (nltk + custom drug stopwords)\n",
    "#    if(remove_stopwords):\n",
    "#        textlist = [word for word in textlist if word not in stop_words]\n",
    "  \n",
    "    # stemming  \n",
    "    if(perform_stemming):\n",
    "        text = text.split()\n",
    "        stemmer = SnowballStemmer('english')\n",
    "        stemmed_words = [stemmer.stem(word) for word in text]\n",
    "        text = ' '.join(stemmed_words)\n",
    "        \n",
    "    return text    \n"
   ]
  },
  {
   "cell_type": "code",
   "execution_count": 93,
   "metadata": {},
   "outputs": [],
   "source": [
    "def standardize_text(df, text_field):\n",
    "    df[text_field] = df[text_field].str.replace(r\"http\\S+\", \"\")\n",
    "    df[text_field] = df[text_field].str.replace(r\"http\", \"\")\n",
    "    df[text_field] = df[text_field].str.replace(r\"(\\d)\", \"\")\n",
    "    df[text_field] = df[text_field].str.replace(r\"@\\S+\", \"\")\n",
    "    df[text_field] = df[text_field].str.replace(r\"[^A-Za-z0-9(),!?@\\'\\`\\\"\\_\\n\\``]\", \" \")\n",
    "    df[text_field] = df[text_field].str.replace(r\"@\", \"at\")\n",
    "    df[text_field] = df[text_field].str.lower()\n",
    "    return df\n",
    "\n",
    "df_train_cln = standardize_text(df_train, \"review\")\n",
    "\n",
    "# Save locally. \n",
    "df_train_cln.to_csv(\"train_clean_data.csv\")\n"
   ]
  },
  {
   "cell_type": "code",
   "execution_count": 80,
   "metadata": {},
   "outputs": [],
   "source": [
    "df_test_cln.to_csv(\"test_clean_data.csv\")"
   ]
  },
  {
   "cell_type": "code",
   "execution_count": 83,
   "metadata": {},
   "outputs": [
    {
     "name": "stdout",
     "output_type": "stream",
     "text": [
      "cat: stdout: Broken pipe\r\n"
     ]
    }
   ],
   "source": [
    "!cat test_clean_data.csv|head -10>> test_clean_data_10.csv\n",
    "!cat train_clean_data.csv|head -10>> train_clean_data_10.csv "
   ]
  },
  {
   "cell_type": "code",
   "execution_count": 84,
   "metadata": {},
   "outputs": [],
   "source": [
    "### Clean and Save Test Data \n",
    "df_train_cln=pd.read_csv(\"train_clean_data_10.csv\")\n",
    "df_test_cln=pd.read_csv(\"test_clean_data_10.csv\")"
   ]
  },
  {
   "cell_type": "code",
   "execution_count": 85,
   "metadata": {},
   "outputs": [],
   "source": [
    "#df_test_cln = standardize_text(df_test, \"review\")\n",
    "\n",
    "#df_test_cln.to_csv(\"test_clean_data.csv\")\n",
    "trn_tkn=tokenize(df_train_cln['review'])\n",
    "test_tkn=tokenize(df_test_cln['review'])"
   ]
  },
  {
   "cell_type": "code",
   "execution_count": 86,
   "metadata": {},
   "outputs": [
    {
     "data": {
      "text/plain": [
       "0     \"it has no side effect, i take it in combinati...\n",
       "1     \"my son is halfway through his fourth week of ...\n",
       "2     \"i used to take another oral contraceptive, wh...\n",
       "3     \"this is my first time using any form of birth...\n",
       "4     \"suboxone has completely turned my life around...\n",
       "5     \"nd day on mg started to work with rock hard e...\n",
       "6     \"he pulled out, but he cummed a bit in me  i t...\n",
       "7                                                review\n",
       "8     \"it has no side effect, i take it in combinati...\n",
       "9     \"my son is halfway through his fourth week of ...\n",
       "10    \"i used to take another oral contraceptive, wh...\n",
       "11    \"this is my first time using any form of birth...\n",
       "12    \"suboxone has completely turned my life around...\n",
       "13    \"nd day on mg started to work with rock hard e...\n",
       "14    \"he pulled out, but he cummed a bit in me  i t...\n",
       "Name: review, dtype: object"
      ]
     },
     "execution_count": 86,
     "metadata": {},
     "output_type": "execute_result"
    }
   ],
   "source": [
    "df_train_cln['review']"
   ]
  },
  {
   "cell_type": "code",
   "execution_count": 87,
   "metadata": {},
   "outputs": [
    {
     "ename": "ValueError",
     "evalue": "invalid literal for int() with base 10: '``'",
     "output_type": "error",
     "traceback": [
      "\u001b[0;31m---------------------------------------------------------------------------\u001b[0m",
      "\u001b[0;31mValueError\u001b[0m                                Traceback (most recent call last)",
      "\u001b[0;32m<ipython-input-87-99d9cb1d718b>\u001b[0m in \u001b[0;36m<module>\u001b[0;34m\u001b[0m\n\u001b[1;32m      2\u001b[0m \u001b[0;34m\u001b[0m\u001b[0m\n\u001b[1;32m      3\u001b[0m \u001b[0mmax_review_length\u001b[0m \u001b[0;34m=\u001b[0m \u001b[0;36m500\u001b[0m\u001b[0;34m\u001b[0m\u001b[0;34m\u001b[0m\u001b[0m\n\u001b[0;32m----> 4\u001b[0;31m \u001b[0mX_train_s\u001b[0m \u001b[0;34m=\u001b[0m \u001b[0msequence\u001b[0m\u001b[0;34m.\u001b[0m\u001b[0mpad_sequences\u001b[0m\u001b[0;34m(\u001b[0m\u001b[0mtrn_tkn\u001b[0m\u001b[0;34m,\u001b[0m \u001b[0mmaxlen\u001b[0m\u001b[0;34m=\u001b[0m\u001b[0mmax_review_length\u001b[0m\u001b[0;34m)\u001b[0m\u001b[0;34m\u001b[0m\u001b[0;34m\u001b[0m\u001b[0m\n\u001b[0m\u001b[1;32m      5\u001b[0m \u001b[0mX_test_s\u001b[0m \u001b[0;34m=\u001b[0m \u001b[0msequence\u001b[0m\u001b[0;34m.\u001b[0m\u001b[0mpad_sequences\u001b[0m\u001b[0;34m(\u001b[0m\u001b[0mtest_tkn\u001b[0m\u001b[0;34m,\u001b[0m \u001b[0mmaxlen\u001b[0m\u001b[0;34m=\u001b[0m\u001b[0mmax_review_length\u001b[0m\u001b[0;34m)\u001b[0m\u001b[0;34m\u001b[0m\u001b[0;34m\u001b[0m\u001b[0m\n",
      "\u001b[0;32m/Volumes/Disk2/anaconda3/lib/python3.7/site-packages/keras_preprocessing/sequence.py\u001b[0m in \u001b[0;36mpad_sequences\u001b[0;34m(sequences, maxlen, dtype, padding, truncating, value)\u001b[0m\n\u001b[1;32m     94\u001b[0m \u001b[0;34m\u001b[0m\u001b[0m\n\u001b[1;32m     95\u001b[0m         \u001b[0;31m# check `trunc` has expected shape\u001b[0m\u001b[0;34m\u001b[0m\u001b[0;34m\u001b[0m\u001b[0;34m\u001b[0m\u001b[0m\n\u001b[0;32m---> 96\u001b[0;31m         \u001b[0mtrunc\u001b[0m \u001b[0;34m=\u001b[0m \u001b[0mnp\u001b[0m\u001b[0;34m.\u001b[0m\u001b[0masarray\u001b[0m\u001b[0;34m(\u001b[0m\u001b[0mtrunc\u001b[0m\u001b[0;34m,\u001b[0m \u001b[0mdtype\u001b[0m\u001b[0;34m=\u001b[0m\u001b[0mdtype\u001b[0m\u001b[0;34m)\u001b[0m\u001b[0;34m\u001b[0m\u001b[0;34m\u001b[0m\u001b[0m\n\u001b[0m\u001b[1;32m     97\u001b[0m         \u001b[0;32mif\u001b[0m \u001b[0mtrunc\u001b[0m\u001b[0;34m.\u001b[0m\u001b[0mshape\u001b[0m\u001b[0;34m[\u001b[0m\u001b[0;36m1\u001b[0m\u001b[0;34m:\u001b[0m\u001b[0;34m]\u001b[0m \u001b[0;34m!=\u001b[0m \u001b[0msample_shape\u001b[0m\u001b[0;34m:\u001b[0m\u001b[0;34m\u001b[0m\u001b[0;34m\u001b[0m\u001b[0m\n\u001b[1;32m     98\u001b[0m             raise ValueError('Shape of sample %s of sequence at position %s '\n",
      "\u001b[0;32m/Volumes/Disk2/anaconda3/lib/python3.7/site-packages/numpy/core/_asarray.py\u001b[0m in \u001b[0;36masarray\u001b[0;34m(a, dtype, order)\u001b[0m\n\u001b[1;32m     83\u001b[0m \u001b[0;34m\u001b[0m\u001b[0m\n\u001b[1;32m     84\u001b[0m     \"\"\"\n\u001b[0;32m---> 85\u001b[0;31m     \u001b[0;32mreturn\u001b[0m \u001b[0marray\u001b[0m\u001b[0;34m(\u001b[0m\u001b[0ma\u001b[0m\u001b[0;34m,\u001b[0m \u001b[0mdtype\u001b[0m\u001b[0;34m,\u001b[0m \u001b[0mcopy\u001b[0m\u001b[0;34m=\u001b[0m\u001b[0;32mFalse\u001b[0m\u001b[0;34m,\u001b[0m \u001b[0morder\u001b[0m\u001b[0;34m=\u001b[0m\u001b[0morder\u001b[0m\u001b[0;34m)\u001b[0m\u001b[0;34m\u001b[0m\u001b[0;34m\u001b[0m\u001b[0m\n\u001b[0m\u001b[1;32m     86\u001b[0m \u001b[0;34m\u001b[0m\u001b[0m\n\u001b[1;32m     87\u001b[0m \u001b[0;34m\u001b[0m\u001b[0m\n",
      "\u001b[0;31mValueError\u001b[0m: invalid literal for int() with base 10: '``'"
     ]
    }
   ],
   "source": [
    "### Change Y_train & Y_test to binary classification \n",
    "\n",
    "max_review_length = 500\n",
    "X_train_s = sequence.pad_sequences(trn_tkn, maxlen=max_review_length)\n",
    "X_test_s = sequence.pad_sequences(test_tkn, maxlen=max_review_length)"
   ]
  },
  {
   "cell_type": "code",
   "execution_count": 84,
   "metadata": {},
   "outputs": [
    {
     "name": "stderr",
     "output_type": "stream",
     "text": [
      "/Volumes/Disk2/anaconda3/lib/python3.7/site-packages/sklearn/feature_extraction/text.py:300: UserWarning: Your stop_words may be inconsistent with your preprocessing. Tokenizing the stop words generated tokens ['abov', 'afterward', 'alon', 'alreadi', 'alway', 'ani', 'anoth', 'anyon', 'anyth', 'anywher', 'becam', 'becaus', 'becom', 'befor', 'besid', 'cri', 'describ', 'dure', 'els', 'elsewher', 'empti', 'everi', 'everyon', 'everyth', 'everywher', 'fifti', 'forti', 'henc', 'hereaft', 'herebi', 'howev', 'hundr', 'inde', 'mani', 'meanwhil', 'moreov', 'nobodi', 'noon', 'noth', 'nowher', 'onc', 'onli', 'otherwis', 'ourselv', 'perhap', 'pleas', 'sever', 'sinc', 'sincer', 'sixti', 'someon', 'someth', 'sometim', 'somewher', 'themselv', 'thenc', 'thereaft', 'therebi', 'therefor', 'togeth', 'twelv', 'twenti', 'veri', 'whatev', 'whenc', 'whenev', 'wherea', 'whereaft', 'wherebi', 'wherev', 'whi', 'yourselv'] not in stop_words.\n",
      "  'stop_words.' % sorted(inconsistent))\n"
     ]
    }
   ],
   "source": [
    "model = keras.Sequential()\n",
    "model.add(keras.layers.SimpleRNN(32, input_shape=(n_prev, 1), return_sequences=True))\n",
    "model.add(keras.layers.SimpleRNN(32, return_sequences=False))\n",
    "model.add(keras.layers.Dense(1, activation='linear'))\n",
    "model.compile(optimizer='rmsprop',\n",
    "              loss='mse')"
   ]
  },
  {
   "cell_type": "code",
   "execution_count": 86,
   "metadata": {},
   "outputs": [
    {
     "name": "stdout",
     "output_type": "stream",
     "text": [
      "(161297, 68005)\n",
      "(53766, 68005)\n"
     ]
    }
   ],
   "source": [
    "print(X_train1.shape)\n",
    "print(X_test1.shape)"
   ]
  },
  {
   "cell_type": "markdown",
   "metadata": {},
   "source": [
    "## Modelling "
   ]
  },
  {
   "cell_type": "markdown",
   "metadata": {},
   "source": [
    "###  Random Forest "
   ]
  },
  {
   "cell_type": "code",
   "execution_count": 88,
   "metadata": {},
   "outputs": [
    {
     "name": "stderr",
     "output_type": "stream",
     "text": [
      "/Volumes/Disk2/anaconda3/lib/python3.7/site-packages/sklearn/ensemble/forest.py:460: UserWarning: Some inputs do not have OOB scores. This probably means too few trees were used to compute any reliable oob estimates.\n",
      "  warn(\"Some inputs do not have OOB scores. \"\n",
      "/Volumes/Disk2/anaconda3/lib/python3.7/site-packages/sklearn/ensemble/forest.py:465: RuntimeWarning: invalid value encountered in true_divide\n",
      "  predictions[k].sum(axis=1)[:, np.newaxis])\n"
     ]
    },
    {
     "name": "stdout",
     "output_type": "stream",
     "text": [
      "0.8777480191942864\n"
     ]
    }
   ],
   "source": [
    "rf = RandomForestClassifier(oob_score=True,n_estimators=20,random_state=0)\n",
    "rf.fit(X_train,Y_train)\n",
    "rf_pred = rf.predict(X_test)\n",
    "print(rf.score(X_test, Y_test))\n",
    "##0.8777480191942864  ##n_estimators=20 ## with all the features before restricting the number of "
   ]
  },
  {
   "cell_type": "markdown",
   "metadata": {},
   "source": [
    "### Confusion Matrix for Random Forest Classifier \n"
   ]
  },
  {
   "cell_type": "code",
   "execution_count": 108,
   "metadata": {},
   "outputs": [],
   "source": [
    "rfcm=confusion_matrix(Y_test,rf_pred)\n",
    "rfcm"
   ]
  },
  {
   "cell_type": "code",
   "execution_count": 186,
   "metadata": {},
   "outputs": [
    {
     "name": "stdout",
     "output_type": "stream",
     "text": [
      "              precision    recall  f1-score   support\n",
      "\n",
      "        high       0.85      0.99      0.92     35440\n",
      "         low       0.94      0.69      0.80     11838\n",
      "     neutral       0.99      0.59      0.74      6488\n",
      "\n",
      "    accuracy                           0.88     53766\n",
      "   macro avg       0.93      0.76      0.82     53766\n",
      "weighted avg       0.89      0.88      0.87     53766\n",
      "\n"
     ]
    }
   ],
   "source": [
    "print(classification_report(Y_test, rf_pred))"
   ]
  },
  {
   "cell_type": "code",
   "execution_count": 134,
   "metadata": {},
   "outputs": [
    {
     "data": {
      "text/plain": [
       "['high', 'neutral', 'low']"
      ]
     },
     "execution_count": 134,
     "metadata": {},
     "output_type": "execute_result"
    }
   ],
   "source": [
    "#df_train['label'].value_counts(normalize=True)\n",
    "#df_test['label'].value_counts()\n",
    "list(df_test['label'].unique())\n",
    "#high       0.662542\n",
    "#low        0.217382\n",
    "#neutral    0.120077"
   ]
  },
  {
   "cell_type": "code",
   "execution_count": 151,
   "metadata": {},
   "outputs": [
    {
     "data": {
      "text/plain": [
       "array([[35135,   294,    11],\n",
       "       [ 3618,  8198,    22],\n",
       "       [ 2387,   241,  3860]])"
      ]
     },
     "execution_count": 151,
     "metadata": {},
     "output_type": "execute_result"
    }
   ],
   "source": [
    "labels=rfcm\n",
    "labels"
   ]
  },
  {
   "cell_type": "code",
   "execution_count": 185,
   "metadata": {},
   "outputs": [
    {
     "name": "stdout",
     "output_type": "stream",
     "text": [
      "              precision    recall  f1-score   support\n",
      "\n",
      "        high       0.70      0.99      0.82     35440\n",
      "         low       0.80      0.23      0.35     11838\n",
      "     neutral       0.53      0.00      0.00      6488\n",
      "\n",
      "    accuracy                           0.70     53766\n",
      "   macro avg       0.68      0.41      0.39     53766\n",
      "weighted avg       0.70      0.70      0.62     53766\n",
      "\n"
     ]
    },
    {
     "data": {
      "image/png": "[encoded data removed]",
      "text/plain": [
       "<Figure size 504x504 with 2 Axes>"
      ]
     },
     "metadata": {},
     "output_type": "display_data"
    },
    {
     "data": {
      "image/png": "[encoded data removed]",
      "text/plain": [
       "<Figure size 864x576 with 1 Axes>"
      ]
     },
     "metadata": {},
     "output_type": "display_data"
    }
   ],
   "source": [
    "import seaborn as sns\n",
    "import pandas as pd\n",
    "import matplotlib.pyplot as plt\n",
    "plt.figure(figsize=(7,7))\n",
    "df_cm = pd.DataFrame(rfcm, index = list(df_test['label'].unique()),\n",
    "                  columns = list(df_test['label'].unique()))\n",
    "sns.set(font_scale = 1.75)\n",
    "annot_kws = {\"ha\": 'left',\"va\": 'bottom'}\n",
    "sns.heatmap(df_cm, annot=labels,annot_kws=annot_kws)\n",
    "fig, ax = plt.subplots()\n",
    "plt.title('Random Forest Confusion Matrix',fontsize=20)\n",
    "plt.savefig('Random Forest Confusion Matrix')\n",
    "print(classification_report(y_test, y_pred))"
   ]
  },
  {
   "cell_type": "code",
   "execution_count": null,
   "metadata": {},
   "outputs": [],
   "source": [
    "### Print Random Forst confusion Matrix "
   ]
  },
  {
   "cell_type": "code",
   "execution_count": 173,
   "metadata": {},
   "outputs": [],
   "source": [
    "\n",
    "import pandas as pd\n",
    "import matplotlib.pyplot as plt\n",
    "import seaborn as sns\n",
    "\n",
    "def print_confusion_matrix(confusion_matrix, class_names, figsize = (10,7), fontsize=14):\n",
    "    \"\"\"Prints a confusion matrix, as returned by sklearn.metrics.confusion_matrix, as a heatmap.\n",
    "    \n",
    "    Arguments\n",
    "    ---------\n",
    "    confusion_matrix: numpy.ndarray\n",
    "        The numpy.ndarray object returned from a call to sklearn.metrics.confusion_matrix. \n",
    "        Similarly constructed ndarrays can also be used.\n",
    "    class_names: list\n",
    "        An ordered list of class names, in the order they index the given confusion matrix.\n",
    "    figsize: tuple\n",
    "        A 2-long tuple, the first value determining the horizontal size of the ouputted figure,\n",
    "        the second determining the vertical size. Defaults to (10,7).\n",
    "    fontsize: int\n",
    "        Font size for axes labels. Defaults to 14.\n",
    "        \n",
    "    Returns\n",
    "    -------\n",
    "    matplotlib.figure.Figure\n",
    "        The resulting confusion matrix figure\n",
    "    \"\"\"\n",
    "    df_cm = pd.DataFrame(\n",
    "        confusion_matrix, index=class_names, columns=class_names, \n",
    "    )\n",
    "    fig = plt.figure(figsize=figsize)\n",
    "    annot_kws = {\"va\": 'top'}\n",
    "    try:\n",
    "        heatmap = sns.heatmap(df_cm, annot=True, fmt=\"d\", annot_kws=annot_kws)\n",
    "    except ValueError:\n",
    "        raise ValueError(\"Confusion matrix values must be integers.\")\n",
    "    heatmap.yaxis.set_ticklabels(heatmap.yaxis.get_ticklabels(), rotation=0, ha='right', fontsize=fontsize)\n",
    "    heatmap.xaxis.set_ticklabels(heatmap.xaxis.get_ticklabels(), rotation=45, ha='right', fontsize=fontsize)\n",
    "    plt.ylabel('True label')\n",
    "    plt.xlabel('Predicted label')\n",
    "    return fig"
   ]
  },
  {
   "cell_type": "code",
   "execution_count": 174,
   "metadata": {},
   "outputs": [
    {
     "data": {
      "image/png": "[encoded data removed]",
      "text/plain": [
       "<Figure size 720x504 with 2 Axes>"
      ]
     },
     "execution_count": 174,
     "metadata": {},
     "output_type": "execute_result"
    },
    {
     "data": {
      "image/png": "[encoded data removed]",
      "text/plain": [
       "<Figure size 720x504 with 2 Axes>"
      ]
     },
     "metadata": {},
     "output_type": "display_data"
    }
   ],
   "source": [
    "print_confusion_matrix(rfcm,list(df_test['label'].unique()) , figsize = (10,7), fontsize=14)"
   ]
  },
  {
   "cell_type": "code",
   "execution_count": null,
   "metadata": {},
   "outputs": [],
   "source": []
  },
  {
   "cell_type": "markdown",
   "metadata": {},
   "source": [
    "### Gradient Boosting"
   ]
  },
  {
   "cell_type": "code",
   "execution_count": 99,
   "metadata": {},
   "outputs": [
    {
     "name": "stdout",
     "output_type": "stream",
     "text": [
      "0.6591526243350817\n"
     ]
    }
   ],
   "source": [
    "N_ESTIMATORS = 10\n",
    "gb = GradientBoostingClassifier(learning_rate=0.01, \n",
    "                                   n_estimators=N_ESTIMATORS, \n",
    "                                   min_samples_leaf=10)\n",
    "gb.fit(X_train,Y_train)\n",
    "gb.pred = gb.predict(X_test)\n",
    "print(gb.score(X_test, Y_test)) ##0.6591526243350817"
   ]
  },
  {
   "cell_type": "markdown",
   "metadata": {},
   "source": [
    "### Logistic Rgression"
   ]
  },
  {
   "cell_type": "code",
   "execution_count": 100,
   "metadata": {},
   "outputs": [
    {
     "name": "stderr",
     "output_type": "stream",
     "text": [
      "/Volumes/Disk2/anaconda3/lib/python3.7/site-packages/sklearn/linear_model/logistic.py:432: FutureWarning: Default solver will be changed to 'lbfgs' in 0.22. Specify a solver to silence this warning.\n",
      "  FutureWarning)\n",
      "/Volumes/Disk2/anaconda3/lib/python3.7/site-packages/sklearn/linear_model/logistic.py:469: FutureWarning: Default multi_class will be changed to 'auto' in 0.22. Specify the multi_class option to silence this warning.\n",
      "  \"this warning.\", FutureWarning)\n"
     ]
    },
    {
     "name": "stdout",
     "output_type": "stream",
     "text": [
      "0.7715656734739427\n"
     ]
    }
   ],
   "source": [
    "lg = LogisticRegression()\n",
    "lg.fit(X_train,Y_train)\n",
    "lg.pred = lg.predict(X_test)\n",
    "print(lg.score(X_test, Y_test))\n",
    "\n",
    "### 0.7715656734739427"
   ]
  },
  {
   "cell_type": "code",
   "execution_count": null,
   "metadata": {},
   "outputs": [],
   "source": [
    "### Support Vector machines"
   ]
  },
  {
   "cell_type": "code",
   "execution_count": 105,
   "metadata": {},
   "outputs": [
    {
     "data": {
      "text/html": [
       "<div>\n",
       "<style scoped>\n",
       "    .dataframe tbody tr th:only-of-type {\n",
       "        vertical-align: middle;\n",
       "    }\n",
       "\n",
       "    .dataframe tbody tr th {\n",
       "        vertical-align: top;\n",
       "    }\n",
       "\n",
       "    .dataframe thead th {\n",
       "        text-align: right;\n",
       "    }\n",
       "</style>\n",
       "<table border=\"1\" class=\"dataframe\">\n",
       "  <thead>\n",
       "    <tr style=\"text-align: right;\">\n",
       "      <th></th>\n",
       "      <th>drugName</th>\n",
       "      <th>condition</th>\n",
       "      <th>review</th>\n",
       "      <th>rating</th>\n",
       "      <th>date</th>\n",
       "      <th>usefulCount</th>\n",
       "      <th>label</th>\n",
       "    </tr>\n",
       "  </thead>\n",
       "  <tbody>\n",
       "    <tr>\n",
       "      <th>206461</th>\n",
       "      <td>Valsartan</td>\n",
       "      <td>Left Ventricular Dysfunction</td>\n",
       "      <td>\"It has no side effect, I take it in combinati...</td>\n",
       "      <td>9.0</td>\n",
       "      <td>May 20, 2012</td>\n",
       "      <td>27</td>\n",
       "      <td>high</td>\n",
       "    </tr>\n",
       "    <tr>\n",
       "      <th>95260</th>\n",
       "      <td>Guanfacine</td>\n",
       "      <td>ADHD</td>\n",
       "      <td>\"My son is halfway through his fourth week of ...</td>\n",
       "      <td>8.0</td>\n",
       "      <td>April 27, 2010</td>\n",
       "      <td>192</td>\n",
       "      <td>high</td>\n",
       "    </tr>\n",
       "    <tr>\n",
       "      <th>92703</th>\n",
       "      <td>Lybrel</td>\n",
       "      <td>Birth Control</td>\n",
       "      <td>\"I used to take another oral contraceptive, wh...</td>\n",
       "      <td>5.0</td>\n",
       "      <td>December 14, 2009</td>\n",
       "      <td>17</td>\n",
       "      <td>neutral</td>\n",
       "    </tr>\n",
       "    <tr>\n",
       "      <th>138000</th>\n",
       "      <td>Ortho Evra</td>\n",
       "      <td>Birth Control</td>\n",
       "      <td>\"This is my first time using any form of birth...</td>\n",
       "      <td>8.0</td>\n",
       "      <td>November 3, 2015</td>\n",
       "      <td>10</td>\n",
       "      <td>high</td>\n",
       "    </tr>\n",
       "    <tr>\n",
       "      <th>35696</th>\n",
       "      <td>Buprenorphine / naloxone</td>\n",
       "      <td>Opiate Dependence</td>\n",
       "      <td>\"Suboxone has completely turned my life around...</td>\n",
       "      <td>9.0</td>\n",
       "      <td>November 27, 2016</td>\n",
       "      <td>37</td>\n",
       "      <td>high</td>\n",
       "    </tr>\n",
       "    <tr>\n",
       "      <th>155963</th>\n",
       "      <td>Cialis</td>\n",
       "      <td>Benign Prostatic Hyperplasia</td>\n",
       "      <td>\"2nd day on 5mg started to work with rock hard...</td>\n",
       "      <td>2.0</td>\n",
       "      <td>November 28, 2015</td>\n",
       "      <td>43</td>\n",
       "      <td>low</td>\n",
       "    </tr>\n",
       "    <tr>\n",
       "      <th>165907</th>\n",
       "      <td>Levonorgestrel</td>\n",
       "      <td>Emergency Contraception</td>\n",
       "      <td>\"He pulled out, but he cummed a bit in me. I t...</td>\n",
       "      <td>1.0</td>\n",
       "      <td>March 7, 2017</td>\n",
       "      <td>5</td>\n",
       "      <td>low</td>\n",
       "    </tr>\n",
       "    <tr>\n",
       "      <th>102654</th>\n",
       "      <td>Aripiprazole</td>\n",
       "      <td>Bipolar Disorde</td>\n",
       "      <td>\"Abilify changed my life. There is hope. I was...</td>\n",
       "      <td>10.0</td>\n",
       "      <td>March 14, 2015</td>\n",
       "      <td>32</td>\n",
       "      <td>high</td>\n",
       "    </tr>\n",
       "    <tr>\n",
       "      <th>74811</th>\n",
       "      <td>Keppra</td>\n",
       "      <td>Epilepsy</td>\n",
       "      <td>\" I Ve had  nothing but problems with the Kepp...</td>\n",
       "      <td>1.0</td>\n",
       "      <td>August 9, 2016</td>\n",
       "      <td>11</td>\n",
       "      <td>low</td>\n",
       "    </tr>\n",
       "    <tr>\n",
       "      <th>48928</th>\n",
       "      <td>Ethinyl estradiol / levonorgestrel</td>\n",
       "      <td>Birth Control</td>\n",
       "      <td>\"I had been on the pill for many years. When m...</td>\n",
       "      <td>8.0</td>\n",
       "      <td>December 8, 2016</td>\n",
       "      <td>1</td>\n",
       "      <td>high</td>\n",
       "    </tr>\n",
       "    <tr>\n",
       "      <th>29607</th>\n",
       "      <td>Topiramate</td>\n",
       "      <td>Migraine Prevention</td>\n",
       "      <td>\"I have been on this medication almost two wee...</td>\n",
       "      <td>9.0</td>\n",
       "      <td>January 1, 2015</td>\n",
       "      <td>19</td>\n",
       "      <td>high</td>\n",
       "    </tr>\n",
       "    <tr>\n",
       "      <th>75612</th>\n",
       "      <td>L-methylfolate</td>\n",
       "      <td>Depression</td>\n",
       "      <td>\"I have taken anti-depressants for years, with...</td>\n",
       "      <td>10.0</td>\n",
       "      <td>March 9, 2017</td>\n",
       "      <td>54</td>\n",
       "      <td>high</td>\n",
       "    </tr>\n",
       "    <tr>\n",
       "      <th>191290</th>\n",
       "      <td>Pentasa</td>\n",
       "      <td>Crohn's Disease</td>\n",
       "      <td>\"I had Crohn&amp;#039;s with a resection 30 years ...</td>\n",
       "      <td>4.0</td>\n",
       "      <td>July 6, 2013</td>\n",
       "      <td>8</td>\n",
       "      <td>neutral</td>\n",
       "    </tr>\n",
       "    <tr>\n",
       "      <th>221320</th>\n",
       "      <td>Dextromethorphan</td>\n",
       "      <td>Cough</td>\n",
       "      <td>\"Have a little bit of a lingering cough from a...</td>\n",
       "      <td>4.0</td>\n",
       "      <td>September 7, 2017</td>\n",
       "      <td>1</td>\n",
       "      <td>neutral</td>\n",
       "    </tr>\n",
       "    <tr>\n",
       "      <th>98494</th>\n",
       "      <td>Nexplanon</td>\n",
       "      <td>Birth Control</td>\n",
       "      <td>\"Started Nexplanon 2 months ago because I have...</td>\n",
       "      <td>3.0</td>\n",
       "      <td>August 7, 2014</td>\n",
       "      <td>10</td>\n",
       "      <td>low</td>\n",
       "    </tr>\n",
       "    <tr>\n",
       "      <th>81890</th>\n",
       "      <td>Liraglutide</td>\n",
       "      <td>Obesity</td>\n",
       "      <td>\"I have been taking Saxenda since July 2016.  ...</td>\n",
       "      <td>9.0</td>\n",
       "      <td>January 19, 2017</td>\n",
       "      <td>20</td>\n",
       "      <td>high</td>\n",
       "    </tr>\n",
       "    <tr>\n",
       "      <th>48188</th>\n",
       "      <td>Trimethoprim</td>\n",
       "      <td>Urinary Tract Infection</td>\n",
       "      <td>\"This drug worked very well for me and cleared...</td>\n",
       "      <td>9.0</td>\n",
       "      <td>September 22, 2017</td>\n",
       "      <td>0</td>\n",
       "      <td>high</td>\n",
       "    </tr>\n",
       "    <tr>\n",
       "      <th>219869</th>\n",
       "      <td>Amitriptyline</td>\n",
       "      <td>ibromyalgia</td>\n",
       "      <td>\"I&amp;#039;ve been taking amitriptyline since Jan...</td>\n",
       "      <td>9.0</td>\n",
       "      <td>March 15, 2017</td>\n",
       "      <td>39</td>\n",
       "      <td>high</td>\n",
       "    </tr>\n",
       "    <tr>\n",
       "      <th>212077</th>\n",
       "      <td>Lamotrigine</td>\n",
       "      <td>Bipolar Disorde</td>\n",
       "      <td>\"I&amp;#039;ve been on every medicine under the su...</td>\n",
       "      <td>10.0</td>\n",
       "      <td>November 9, 2014</td>\n",
       "      <td>18</td>\n",
       "      <td>high</td>\n",
       "    </tr>\n",
       "    <tr>\n",
       "      <th>119705</th>\n",
       "      <td>Nilotinib</td>\n",
       "      <td>Chronic Myelogenous Leukemia</td>\n",
       "      <td>\"I have been on Tasigna for just over 3 years ...</td>\n",
       "      <td>10.0</td>\n",
       "      <td>September 1, 2015</td>\n",
       "      <td>11</td>\n",
       "      <td>high</td>\n",
       "    </tr>\n",
       "    <tr>\n",
       "      <th>12372</th>\n",
       "      <td>Atripla</td>\n",
       "      <td>HIV Infection</td>\n",
       "      <td>\"Spring of 2008 I was hospitalized with pnuemo...</td>\n",
       "      <td>8.0</td>\n",
       "      <td>July 9, 2010</td>\n",
       "      <td>11</td>\n",
       "      <td>high</td>\n",
       "    </tr>\n",
       "    <tr>\n",
       "      <th>231466</th>\n",
       "      <td>Trazodone</td>\n",
       "      <td>Insomnia</td>\n",
       "      <td>\"I have insomnia, it&amp;#039;s horrible. My story...</td>\n",
       "      <td>10.0</td>\n",
       "      <td>April 3, 2016</td>\n",
       "      <td>43</td>\n",
       "      <td>high</td>\n",
       "    </tr>\n",
       "    <tr>\n",
       "      <th>227020</th>\n",
       "      <td>Etonogestrel</td>\n",
       "      <td>Birth Control</td>\n",
       "      <td>\"Nexplanon does its job. I can have worry free...</td>\n",
       "      <td>9.0</td>\n",
       "      <td>August 11, 2014</td>\n",
       "      <td>11</td>\n",
       "      <td>high</td>\n",
       "    </tr>\n",
       "    <tr>\n",
       "      <th>41928</th>\n",
       "      <td>Etanercept</td>\n",
       "      <td>Rheumatoid Arthritis</td>\n",
       "      <td>\"I live in Western Australia and disturbed by ...</td>\n",
       "      <td>10.0</td>\n",
       "      <td>September 16, 2017</td>\n",
       "      <td>4</td>\n",
       "      <td>high</td>\n",
       "    </tr>\n",
       "    <tr>\n",
       "      <th>213649</th>\n",
       "      <td>Tioconazole</td>\n",
       "      <td>Vaginal Yeast Infection</td>\n",
       "      <td>\"Do not use the cream that comes with this. It...</td>\n",
       "      <td>1.0</td>\n",
       "      <td>April 17, 2017</td>\n",
       "      <td>7</td>\n",
       "      <td>low</td>\n",
       "    </tr>\n",
       "    <tr>\n",
       "      <th>51215</th>\n",
       "      <td>Azithromycin</td>\n",
       "      <td>Chlamydia Infection</td>\n",
       "      <td>\"Was prescribed one dose over the course of on...</td>\n",
       "      <td>7.0</td>\n",
       "      <td>December 14, 2015</td>\n",
       "      <td>7</td>\n",
       "      <td>high</td>\n",
       "    </tr>\n",
       "    <tr>\n",
       "      <th>206180</th>\n",
       "      <td>Eflornithine</td>\n",
       "      <td>Hirsutism</td>\n",
       "      <td>\"I&amp;#039;m writing a second review on Vaniqa.  ...</td>\n",
       "      <td>10.0</td>\n",
       "      <td>May 11, 2014</td>\n",
       "      <td>99</td>\n",
       "      <td>high</td>\n",
       "    </tr>\n",
       "    <tr>\n",
       "      <th>78563</th>\n",
       "      <td>Daytrana</td>\n",
       "      <td>ADHD</td>\n",
       "      <td>\"Hi all, My son who is 12 was diagnosed when h...</td>\n",
       "      <td>10.0</td>\n",
       "      <td>January 12, 2017</td>\n",
       "      <td>11</td>\n",
       "      <td>high</td>\n",
       "    </tr>\n",
       "    <tr>\n",
       "      <th>132258</th>\n",
       "      <td>Ativan</td>\n",
       "      <td>Panic Disorde</td>\n",
       "      <td>\"Honestly, I have been taking ativan for 2 yea...</td>\n",
       "      <td>6.0</td>\n",
       "      <td>June 1, 2015</td>\n",
       "      <td>47</td>\n",
       "      <td>neutral</td>\n",
       "    </tr>\n",
       "    <tr>\n",
       "      <th>27339</th>\n",
       "      <td>Imitrex</td>\n",
       "      <td>Migraine</td>\n",
       "      <td>\"At first I suffered through them. This includ...</td>\n",
       "      <td>8.0</td>\n",
       "      <td>October 16, 2012</td>\n",
       "      <td>6</td>\n",
       "      <td>high</td>\n",
       "    </tr>\n",
       "    <tr>\n",
       "      <th>...</th>\n",
       "      <td>...</td>\n",
       "      <td>...</td>\n",
       "      <td>...</td>\n",
       "      <td>...</td>\n",
       "      <td>...</td>\n",
       "      <td>...</td>\n",
       "      <td>...</td>\n",
       "    </tr>\n",
       "    <tr>\n",
       "      <th>181920</th>\n",
       "      <td>Inderal</td>\n",
       "      <td>Ventricular Tachycardia</td>\n",
       "      <td>\"Doc prescribed this medication to control my ...</td>\n",
       "      <td>3.0</td>\n",
       "      <td>January 23, 2014</td>\n",
       "      <td>6</td>\n",
       "      <td>low</td>\n",
       "    </tr>\n",
       "    <tr>\n",
       "      <th>76151</th>\n",
       "      <td>Portia</td>\n",
       "      <td>Birth Control</td>\n",
       "      <td>\"I switched to Portia 12 days ago when I start...</td>\n",
       "      <td>1.0</td>\n",
       "      <td>January 28, 2014</td>\n",
       "      <td>9</td>\n",
       "      <td>low</td>\n",
       "    </tr>\n",
       "    <tr>\n",
       "      <th>73058</th>\n",
       "      <td>Ethinyl estradiol / norethindrone</td>\n",
       "      <td>Birth Control</td>\n",
       "      <td>\"When I first starting taking Lo Loestrin Fe, ...</td>\n",
       "      <td>10.0</td>\n",
       "      <td>April 20, 2015</td>\n",
       "      <td>13</td>\n",
       "      <td>high</td>\n",
       "    </tr>\n",
       "    <tr>\n",
       "      <th>183202</th>\n",
       "      <td>Cymbalta</td>\n",
       "      <td>Anxiety</td>\n",
       "      <td>\"I have been taking Cymbalta for 15 months now...</td>\n",
       "      <td>9.0</td>\n",
       "      <td>June 10, 2013</td>\n",
       "      <td>89</td>\n",
       "      <td>high</td>\n",
       "    </tr>\n",
       "    <tr>\n",
       "      <th>148859</th>\n",
       "      <td>Mirena</td>\n",
       "      <td>Birth Control</td>\n",
       "      <td>\"My experience: Painful insertion but I expect...</td>\n",
       "      <td>10.0</td>\n",
       "      <td>January 26, 2016</td>\n",
       "      <td>4</td>\n",
       "      <td>high</td>\n",
       "    </tr>\n",
       "    <tr>\n",
       "      <th>88991</th>\n",
       "      <td>Singulair</td>\n",
       "      <td>Asthma</td>\n",
       "      <td>\"This really did help with my allergies and as...</td>\n",
       "      <td>5.0</td>\n",
       "      <td>September 21, 2012</td>\n",
       "      <td>36</td>\n",
       "      <td>neutral</td>\n",
       "    </tr>\n",
       "    <tr>\n",
       "      <th>109111</th>\n",
       "      <td>Nexplanon</td>\n",
       "      <td>Birth Control</td>\n",
       "      <td>\"I have had the Nexplanon since Dec. 27, 2016 ...</td>\n",
       "      <td>6.0</td>\n",
       "      <td>April 6, 2017</td>\n",
       "      <td>0</td>\n",
       "      <td>neutral</td>\n",
       "    </tr>\n",
       "    <tr>\n",
       "      <th>117030</th>\n",
       "      <td>Synvisc-One</td>\n",
       "      <td>Osteoarthritis</td>\n",
       "      <td>\"I need bi-lateral knee replacement but due to...</td>\n",
       "      <td>2.0</td>\n",
       "      <td>April 27, 2017</td>\n",
       "      <td>11</td>\n",
       "      <td>low</td>\n",
       "    </tr>\n",
       "    <tr>\n",
       "      <th>161838</th>\n",
       "      <td>Ciprofloxacin</td>\n",
       "      <td>Bladder Infection</td>\n",
       "      <td>\"POISON....two days on this med &amp;amp; I though...</td>\n",
       "      <td>1.0</td>\n",
       "      <td>November 28, 2017</td>\n",
       "      <td>1</td>\n",
       "      <td>low</td>\n",
       "    </tr>\n",
       "    <tr>\n",
       "      <th>176146</th>\n",
       "      <td>Lorazepam</td>\n",
       "      <td>Anxiety</td>\n",
       "      <td>\"About 4 years ago I started having early-morn...</td>\n",
       "      <td>8.0</td>\n",
       "      <td>November 21, 2017</td>\n",
       "      <td>0</td>\n",
       "      <td>high</td>\n",
       "    </tr>\n",
       "    <tr>\n",
       "      <th>18421</th>\n",
       "      <td>Zolpidem</td>\n",
       "      <td>Insomnia</td>\n",
       "      <td>\"I started taking this medication 10 years ago...</td>\n",
       "      <td>10.0</td>\n",
       "      <td>November 16, 2008</td>\n",
       "      <td>103</td>\n",
       "      <td>high</td>\n",
       "    </tr>\n",
       "    <tr>\n",
       "      <th>86533</th>\n",
       "      <td>Invokana</td>\n",
       "      <td>Diabetes, Type 2</td>\n",
       "      <td>\"I just got diagnosed with type 2. My doctor p...</td>\n",
       "      <td>9.0</td>\n",
       "      <td>October 23, 2015</td>\n",
       "      <td>47</td>\n",
       "      <td>high</td>\n",
       "    </tr>\n",
       "    <tr>\n",
       "      <th>56907</th>\n",
       "      <td>Roxicodone Intensol</td>\n",
       "      <td>Chronic Pain</td>\n",
       "      <td>\"Used with my throat cancer and it helped numb...</td>\n",
       "      <td>10.0</td>\n",
       "      <td>August 16, 2016</td>\n",
       "      <td>22</td>\n",
       "      <td>high</td>\n",
       "    </tr>\n",
       "    <tr>\n",
       "      <th>183962</th>\n",
       "      <td>Hydroxyzine</td>\n",
       "      <td>Sedation</td>\n",
       "      <td>\"Honestly , This works pretty well for me. It ...</td>\n",
       "      <td>10.0</td>\n",
       "      <td>September 13, 2017</td>\n",
       "      <td>8</td>\n",
       "      <td>high</td>\n",
       "    </tr>\n",
       "    <tr>\n",
       "      <th>52489</th>\n",
       "      <td>Armour Thyroid</td>\n",
       "      <td>Underactive Thyroid</td>\n",
       "      <td>\"Had taken Armour Thyroid for 20 years but sta...</td>\n",
       "      <td>1.0</td>\n",
       "      <td>January 31, 2016</td>\n",
       "      <td>87</td>\n",
       "      <td>low</td>\n",
       "    </tr>\n",
       "    <tr>\n",
       "      <th>229036</th>\n",
       "      <td>Tadalafil</td>\n",
       "      <td>Erectile Dysfunction</td>\n",
       "      <td>\"I&amp;#039;m a 59 year old male who has experienc...</td>\n",
       "      <td>9.0</td>\n",
       "      <td>November 22, 2014</td>\n",
       "      <td>36</td>\n",
       "      <td>high</td>\n",
       "    </tr>\n",
       "    <tr>\n",
       "      <th>228492</th>\n",
       "      <td>Geodon</td>\n",
       "      <td>Bipolar Disorde</td>\n",
       "      <td>\"I was in a very bad place at the time I start...</td>\n",
       "      <td>3.0</td>\n",
       "      <td>July 25, 2016</td>\n",
       "      <td>5</td>\n",
       "      <td>low</td>\n",
       "    </tr>\n",
       "    <tr>\n",
       "      <th>121154</th>\n",
       "      <td>Venlafaxine</td>\n",
       "      <td>Panic Disorde</td>\n",
       "      <td>\"Had panic attacks and social anxiety starting...</td>\n",
       "      <td>9.0</td>\n",
       "      <td>November 10, 2016</td>\n",
       "      <td>25</td>\n",
       "      <td>high</td>\n",
       "    </tr>\n",
       "    <tr>\n",
       "      <th>200957</th>\n",
       "      <td>Alcaftadine</td>\n",
       "      <td>Conjunctivitis, Allergic</td>\n",
       "      <td>\"Used this a month ago for allergic conjunctiv...</td>\n",
       "      <td>1.0</td>\n",
       "      <td>September 21, 2014</td>\n",
       "      <td>12</td>\n",
       "      <td>low</td>\n",
       "    </tr>\n",
       "    <tr>\n",
       "      <th>93069</th>\n",
       "      <td>Vortioxetine</td>\n",
       "      <td>Depression</td>\n",
       "      <td>\"This is the third med I&amp;#039;ve tried for anx...</td>\n",
       "      <td>2.0</td>\n",
       "      <td>July 17, 2016</td>\n",
       "      <td>33</td>\n",
       "      <td>low</td>\n",
       "    </tr>\n",
       "    <tr>\n",
       "      <th>132177</th>\n",
       "      <td>Ativan</td>\n",
       "      <td>Anxiety</td>\n",
       "      <td>\"I was super against taking medication. I&amp;#039...</td>\n",
       "      <td>9.0</td>\n",
       "      <td>August 16, 2016</td>\n",
       "      <td>61</td>\n",
       "      <td>high</td>\n",
       "    </tr>\n",
       "    <tr>\n",
       "      <th>45410</th>\n",
       "      <td>Fluoxetine</td>\n",
       "      <td>Obsessive Compulsive Disorde</td>\n",
       "      <td>\"I have been off Prozac for about 4 weeks now....</td>\n",
       "      <td>8.0</td>\n",
       "      <td>January 21, 2015</td>\n",
       "      <td>22</td>\n",
       "      <td>high</td>\n",
       "    </tr>\n",
       "    <tr>\n",
       "      <th>105263</th>\n",
       "      <td>Carbamazepine</td>\n",
       "      <td>Trigeminal Neuralgia</td>\n",
       "      <td>\"Up to 800mg seems to work about once every 2n...</td>\n",
       "      <td>1.0</td>\n",
       "      <td>January 31, 2016</td>\n",
       "      <td>10</td>\n",
       "      <td>low</td>\n",
       "    </tr>\n",
       "    <tr>\n",
       "      <th>103458</th>\n",
       "      <td>Tekturna</td>\n",
       "      <td>High Blood Pressure</td>\n",
       "      <td>\"I have only been on Tekturna for 9 days. The ...</td>\n",
       "      <td>7.0</td>\n",
       "      <td>February 7, 2010</td>\n",
       "      <td>18</td>\n",
       "      <td>high</td>\n",
       "    </tr>\n",
       "    <tr>\n",
       "      <th>164345</th>\n",
       "      <td>Junel 1.5 / 30</td>\n",
       "      <td>Birth Control</td>\n",
       "      <td>\"This would be my second month on Junel. I&amp;#03...</td>\n",
       "      <td>6.0</td>\n",
       "      <td>May 27, 2015</td>\n",
       "      <td>0</td>\n",
       "      <td>neutral</td>\n",
       "    </tr>\n",
       "    <tr>\n",
       "      <th>191035</th>\n",
       "      <td>Campral</td>\n",
       "      <td>Alcohol Dependence</td>\n",
       "      <td>\"I wrote my first report in Mid-October of 201...</td>\n",
       "      <td>10.0</td>\n",
       "      <td>May 31, 2015</td>\n",
       "      <td>125</td>\n",
       "      <td>high</td>\n",
       "    </tr>\n",
       "    <tr>\n",
       "      <th>127085</th>\n",
       "      <td>Metoclopramide</td>\n",
       "      <td>Nausea/Vomiting</td>\n",
       "      <td>\"I was given this in IV before surgey. I immed...</td>\n",
       "      <td>1.0</td>\n",
       "      <td>November 1, 2011</td>\n",
       "      <td>34</td>\n",
       "      <td>low</td>\n",
       "    </tr>\n",
       "    <tr>\n",
       "      <th>187382</th>\n",
       "      <td>Orencia</td>\n",
       "      <td>Rheumatoid Arthritis</td>\n",
       "      <td>\"Limited improvement after 4 months, developed...</td>\n",
       "      <td>2.0</td>\n",
       "      <td>March 15, 2014</td>\n",
       "      <td>35</td>\n",
       "      <td>low</td>\n",
       "    </tr>\n",
       "    <tr>\n",
       "      <th>47128</th>\n",
       "      <td>Thyroid desiccated</td>\n",
       "      <td>Underactive Thyroid</td>\n",
       "      <td>\"I&amp;#039;ve been on thyroid medication 49 years...</td>\n",
       "      <td>10.0</td>\n",
       "      <td>September 19, 2015</td>\n",
       "      <td>79</td>\n",
       "      <td>high</td>\n",
       "    </tr>\n",
       "    <tr>\n",
       "      <th>215220</th>\n",
       "      <td>Lubiprostone</td>\n",
       "      <td>Constipation, Chronic</td>\n",
       "      <td>\"I&amp;#039;ve had chronic constipation all my adu...</td>\n",
       "      <td>9.0</td>\n",
       "      <td>December 13, 2014</td>\n",
       "      <td>116</td>\n",
       "      <td>high</td>\n",
       "    </tr>\n",
       "  </tbody>\n",
       "</table>\n",
       "<p>161297 rows × 7 columns</p>\n",
       "</div>"
      ],
      "text/plain": [
       "                                  drugName                     condition  \\\n",
       "206461                           Valsartan  Left Ventricular Dysfunction   \n",
       "95260                           Guanfacine                          ADHD   \n",
       "92703                               Lybrel                 Birth Control   \n",
       "138000                          Ortho Evra                 Birth Control   \n",
       "35696             Buprenorphine / naloxone             Opiate Dependence   \n",
       "155963                              Cialis  Benign Prostatic Hyperplasia   \n",
       "165907                      Levonorgestrel       Emergency Contraception   \n",
       "102654                        Aripiprazole               Bipolar Disorde   \n",
       "74811                               Keppra                      Epilepsy   \n",
       "48928   Ethinyl estradiol / levonorgestrel                 Birth Control   \n",
       "29607                           Topiramate           Migraine Prevention   \n",
       "75612                       L-methylfolate                    Depression   \n",
       "191290                             Pentasa               Crohn's Disease   \n",
       "221320                    Dextromethorphan                         Cough   \n",
       "98494                            Nexplanon                 Birth Control   \n",
       "81890                          Liraglutide                       Obesity   \n",
       "48188                         Trimethoprim       Urinary Tract Infection   \n",
       "219869                       Amitriptyline                   ibromyalgia   \n",
       "212077                         Lamotrigine               Bipolar Disorde   \n",
       "119705                           Nilotinib  Chronic Myelogenous Leukemia   \n",
       "12372                              Atripla                 HIV Infection   \n",
       "231466                           Trazodone                      Insomnia   \n",
       "227020                        Etonogestrel                 Birth Control   \n",
       "41928                           Etanercept          Rheumatoid Arthritis   \n",
       "213649                         Tioconazole       Vaginal Yeast Infection   \n",
       "51215                         Azithromycin           Chlamydia Infection   \n",
       "206180                        Eflornithine                     Hirsutism   \n",
       "78563                             Daytrana                          ADHD   \n",
       "132258                              Ativan                 Panic Disorde   \n",
       "27339                              Imitrex                      Migraine   \n",
       "...                                    ...                           ...   \n",
       "181920                             Inderal       Ventricular Tachycardia   \n",
       "76151                               Portia                 Birth Control   \n",
       "73058    Ethinyl estradiol / norethindrone                 Birth Control   \n",
       "183202                            Cymbalta                       Anxiety   \n",
       "148859                              Mirena                 Birth Control   \n",
       "88991                            Singulair                        Asthma   \n",
       "109111                           Nexplanon                 Birth Control   \n",
       "117030                         Synvisc-One                Osteoarthritis   \n",
       "161838                       Ciprofloxacin             Bladder Infection   \n",
       "176146                           Lorazepam                       Anxiety   \n",
       "18421                             Zolpidem                      Insomnia   \n",
       "86533                             Invokana              Diabetes, Type 2   \n",
       "56907                  Roxicodone Intensol                  Chronic Pain   \n",
       "183962                         Hydroxyzine                      Sedation   \n",
       "52489                       Armour Thyroid           Underactive Thyroid   \n",
       "229036                           Tadalafil          Erectile Dysfunction   \n",
       "228492                              Geodon               Bipolar Disorde   \n",
       "121154                         Venlafaxine                 Panic Disorde   \n",
       "200957                         Alcaftadine      Conjunctivitis, Allergic   \n",
       "93069                         Vortioxetine                    Depression   \n",
       "132177                              Ativan                       Anxiety   \n",
       "45410                           Fluoxetine  Obsessive Compulsive Disorde   \n",
       "105263                       Carbamazepine          Trigeminal Neuralgia   \n",
       "103458                            Tekturna           High Blood Pressure   \n",
       "164345                      Junel 1.5 / 30                 Birth Control   \n",
       "191035                             Campral            Alcohol Dependence   \n",
       "127085                      Metoclopramide               Nausea/Vomiting   \n",
       "187382                             Orencia          Rheumatoid Arthritis   \n",
       "47128                   Thyroid desiccated           Underactive Thyroid   \n",
       "215220                        Lubiprostone         Constipation, Chronic   \n",
       "\n",
       "                                                   review  rating  \\\n",
       "206461  \"It has no side effect, I take it in combinati...     9.0   \n",
       "95260   \"My son is halfway through his fourth week of ...     8.0   \n",
       "92703   \"I used to take another oral contraceptive, wh...     5.0   \n",
       "138000  \"This is my first time using any form of birth...     8.0   \n",
       "35696   \"Suboxone has completely turned my life around...     9.0   \n",
       "155963  \"2nd day on 5mg started to work with rock hard...     2.0   \n",
       "165907  \"He pulled out, but he cummed a bit in me. I t...     1.0   \n",
       "102654  \"Abilify changed my life. There is hope. I was...    10.0   \n",
       "74811   \" I Ve had  nothing but problems with the Kepp...     1.0   \n",
       "48928   \"I had been on the pill for many years. When m...     8.0   \n",
       "29607   \"I have been on this medication almost two wee...     9.0   \n",
       "75612   \"I have taken anti-depressants for years, with...    10.0   \n",
       "191290  \"I had Crohn&#039;s with a resection 30 years ...     4.0   \n",
       "221320  \"Have a little bit of a lingering cough from a...     4.0   \n",
       "98494   \"Started Nexplanon 2 months ago because I have...     3.0   \n",
       "81890   \"I have been taking Saxenda since July 2016.  ...     9.0   \n",
       "48188   \"This drug worked very well for me and cleared...     9.0   \n",
       "219869  \"I&#039;ve been taking amitriptyline since Jan...     9.0   \n",
       "212077  \"I&#039;ve been on every medicine under the su...    10.0   \n",
       "119705  \"I have been on Tasigna for just over 3 years ...    10.0   \n",
       "12372   \"Spring of 2008 I was hospitalized with pnuemo...     8.0   \n",
       "231466  \"I have insomnia, it&#039;s horrible. My story...    10.0   \n",
       "227020  \"Nexplanon does its job. I can have worry free...     9.0   \n",
       "41928   \"I live in Western Australia and disturbed by ...    10.0   \n",
       "213649  \"Do not use the cream that comes with this. It...     1.0   \n",
       "51215   \"Was prescribed one dose over the course of on...     7.0   \n",
       "206180  \"I&#039;m writing a second review on Vaniqa.  ...    10.0   \n",
       "78563   \"Hi all, My son who is 12 was diagnosed when h...    10.0   \n",
       "132258  \"Honestly, I have been taking ativan for 2 yea...     6.0   \n",
       "27339   \"At first I suffered through them. This includ...     8.0   \n",
       "...                                                   ...     ...   \n",
       "181920  \"Doc prescribed this medication to control my ...     3.0   \n",
       "76151   \"I switched to Portia 12 days ago when I start...     1.0   \n",
       "73058   \"When I first starting taking Lo Loestrin Fe, ...    10.0   \n",
       "183202  \"I have been taking Cymbalta for 15 months now...     9.0   \n",
       "148859  \"My experience: Painful insertion but I expect...    10.0   \n",
       "88991   \"This really did help with my allergies and as...     5.0   \n",
       "109111  \"I have had the Nexplanon since Dec. 27, 2016 ...     6.0   \n",
       "117030  \"I need bi-lateral knee replacement but due to...     2.0   \n",
       "161838  \"POISON....two days on this med &amp; I though...     1.0   \n",
       "176146  \"About 4 years ago I started having early-morn...     8.0   \n",
       "18421   \"I started taking this medication 10 years ago...    10.0   \n",
       "86533   \"I just got diagnosed with type 2. My doctor p...     9.0   \n",
       "56907   \"Used with my throat cancer and it helped numb...    10.0   \n",
       "183962  \"Honestly , This works pretty well for me. It ...    10.0   \n",
       "52489   \"Had taken Armour Thyroid for 20 years but sta...     1.0   \n",
       "229036  \"I&#039;m a 59 year old male who has experienc...     9.0   \n",
       "228492  \"I was in a very bad place at the time I start...     3.0   \n",
       "121154  \"Had panic attacks and social anxiety starting...     9.0   \n",
       "200957  \"Used this a month ago for allergic conjunctiv...     1.0   \n",
       "93069   \"This is the third med I&#039;ve tried for anx...     2.0   \n",
       "132177  \"I was super against taking medication. I&#039...     9.0   \n",
       "45410   \"I have been off Prozac for about 4 weeks now....     8.0   \n",
       "105263  \"Up to 800mg seems to work about once every 2n...     1.0   \n",
       "103458  \"I have only been on Tekturna for 9 days. The ...     7.0   \n",
       "164345  \"This would be my second month on Junel. I&#03...     6.0   \n",
       "191035  \"I wrote my first report in Mid-October of 201...    10.0   \n",
       "127085  \"I was given this in IV before surgey. I immed...     1.0   \n",
       "187382  \"Limited improvement after 4 months, developed...     2.0   \n",
       "47128   \"I&#039;ve been on thyroid medication 49 years...    10.0   \n",
       "215220  \"I&#039;ve had chronic constipation all my adu...     9.0   \n",
       "\n",
       "                      date  usefulCount    label  \n",
       "206461        May 20, 2012           27     high  \n",
       "95260       April 27, 2010          192     high  \n",
       "92703    December 14, 2009           17  neutral  \n",
       "138000    November 3, 2015           10     high  \n",
       "35696    November 27, 2016           37     high  \n",
       "155963   November 28, 2015           43      low  \n",
       "165907       March 7, 2017            5      low  \n",
       "102654      March 14, 2015           32     high  \n",
       "74811       August 9, 2016           11      low  \n",
       "48928     December 8, 2016            1     high  \n",
       "29607      January 1, 2015           19     high  \n",
       "75612        March 9, 2017           54     high  \n",
       "191290        July 6, 2013            8  neutral  \n",
       "221320   September 7, 2017            1  neutral  \n",
       "98494       August 7, 2014           10      low  \n",
       "81890     January 19, 2017           20     high  \n",
       "48188   September 22, 2017            0     high  \n",
       "219869      March 15, 2017           39     high  \n",
       "212077    November 9, 2014           18     high  \n",
       "119705   September 1, 2015           11     high  \n",
       "12372         July 9, 2010           11     high  \n",
       "231466       April 3, 2016           43     high  \n",
       "227020     August 11, 2014           11     high  \n",
       "41928   September 16, 2017            4     high  \n",
       "213649      April 17, 2017            7      low  \n",
       "51215    December 14, 2015            7     high  \n",
       "206180        May 11, 2014           99     high  \n",
       "78563     January 12, 2017           11     high  \n",
       "132258        June 1, 2015           47  neutral  \n",
       "27339     October 16, 2012            6     high  \n",
       "...                    ...          ...      ...  \n",
       "181920    January 23, 2014            6      low  \n",
       "76151     January 28, 2014            9      low  \n",
       "73058       April 20, 2015           13     high  \n",
       "183202       June 10, 2013           89     high  \n",
       "148859    January 26, 2016            4     high  \n",
       "88991   September 21, 2012           36  neutral  \n",
       "109111       April 6, 2017            0  neutral  \n",
       "117030      April 27, 2017           11      low  \n",
       "161838   November 28, 2017            1      low  \n",
       "176146   November 21, 2017            0     high  \n",
       "18421    November 16, 2008          103     high  \n",
       "86533     October 23, 2015           47     high  \n",
       "56907      August 16, 2016           22     high  \n",
       "183962  September 13, 2017            8     high  \n",
       "52489     January 31, 2016           87      low  \n",
       "229036   November 22, 2014           36     high  \n",
       "228492       July 25, 2016            5      low  \n",
       "121154   November 10, 2016           25     high  \n",
       "200957  September 21, 2014           12      low  \n",
       "93069        July 17, 2016           33      low  \n",
       "132177     August 16, 2016           61     high  \n",
       "45410     January 21, 2015           22     high  \n",
       "105263    January 31, 2016           10      low  \n",
       "103458    February 7, 2010           18     high  \n",
       "164345        May 27, 2015            0  neutral  \n",
       "191035        May 31, 2015          125     high  \n",
       "127085    November 1, 2011           34      low  \n",
       "187382      March 15, 2014           35      low  \n",
       "47128   September 19, 2015           79     high  \n",
       "215220   December 13, 2014          116     high  \n",
       "\n",
       "[161297 rows x 7 columns]"
      ]
     },
     "execution_count": 105,
     "metadata": {},
     "output_type": "execute_result"
    }
   ],
   "source": [
    "df_train"
   ]
  },
  {
   "cell_type": "markdown",
   "metadata": {},
   "source": [
    "### Using Multinomial Naves Baies"
   ]
  },
  {
   "cell_type": "code",
   "execution_count": 184,
   "metadata": {},
   "outputs": [
    {
     "name": "stdout",
     "output_type": "stream",
     "text": [
      "accuracy 0.7039392924896775\n",
      "              precision    recall  f1-score   support\n",
      "\n",
      "        high       0.70      0.99      0.82     35440\n",
      "         low       0.80      0.23      0.35     11838\n",
      "     neutral       0.53      0.00      0.00      6488\n",
      "\n",
      "    accuracy                           0.70     53766\n",
      "   macro avg       0.68      0.41      0.39     53766\n",
      "weighted avg       0.70      0.70      0.62     53766\n",
      "\n"
     ]
    }
   ],
   "source": [
    "\n",
    "\n",
    "from sklearn.naive_bayes import MultinomialNB\n",
    "from sklearn.pipeline import Pipeline\n",
    "from sklearn.feature_extraction.text import TfidfTransformer\n",
    "\n",
    "nb =  MultinomialNB()\n",
    "nb.fit(X_train, Y_train)\n",
    "\n",
    "from sklearn.metrics import classification_report\n",
    "y_pred = nb.predict(X_test)\n",
    "\n",
    "print('accuracy %s' % accuracy_score(y_pred, y_test))\n",
    "print(classification_report(y_test, y_pred))"
   ]
  },
  {
   "cell_type": "code",
   "execution_count": null,
   "metadata": {},
   "outputs": [],
   "source": []
  }
 ],
 "metadata": {
  "kernelspec": {
   "display_name": "Python 3",
   "language": "python",
   "name": "python3"
  },
  "language_info": {
   "codemirror_mode": {
    "name": "ipython",
    "version": 3
   },
   "file_extension": ".py",
   "mimetype": "text/x-python",
   "name": "python",
   "nbconvert_exporter": "python",
   "pygments_lexer": "ipython3",
   "version": "3.7.3"
  }
 },
 "nbformat": 4,
 "nbformat_minor": 2
}
